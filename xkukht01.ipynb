{
 "cells": [
  {
   "cell_type": "code",
   "execution_count": 97,
   "id": "4a5afe3e-e861-4b3a-919b-e9f373014c7e",
   "metadata": {},
   "outputs": [],
   "source": [
    "import numpy as np"
   ]
  },
  {
   "cell_type": "code",
   "execution_count": 98,
   "id": "3654f230",
   "metadata": {},
   "outputs": [],
   "source": [
    "class MyError(Exception):\n",
    "    pass"
   ]
  },
  {
   "cell_type": "code",
   "execution_count": 99,
   "id": "f0bfcfd7-9ee9-476e-99a7-1be4917d2cbf",
   "metadata": {},
   "outputs": [],
   "source": [
    " #Gauss–Jordan elimination\n",
    "class Gauss_Jordan():\n",
    "    __MAX_MATRIX_SIZE = 10\n",
    "    __MIN_MATRIX_SIZE = 4\n",
    "    \n",
    "    def __init__(self):\n",
    "       \n",
    "       self._input_matrix = np.array([])\n",
    "       self._size_input_matrix = self.__MIN_MATRIX_SIZE\n",
    "       self._one_diag_matrix = np.array([])\n",
    "\n",
    "    \n",
    "    def _GenerateRandomMatrix(self, new_mat_size):\n",
    "\n",
    "        if new_mat_size < self.__MIN_MATRIX_SIZE or new_mat_size > self.__MAX_MATRIX_SIZE:\n",
    "            raise MyError(f\"Invalid size for input matrix: {new_mat_size}. Size should be in interval [{self.__MIN_MATRIX_SIZE}, {self.__MAX_MATRIX_SIZE}]\")\n",
    "        \n",
    "        self._size_input_matrix = new_mat_size\n",
    "\n",
    "        self._input_matrix = np.zeros([self._size_input_matrix, self._size_input_matrix], dtype = int)\n",
    "\n",
    "        for i in range(0, self._size_input_matrix):\n",
    "            r = np.random.randint(100, size=self._size_input_matrix)\n",
    "            self._input_matrix[i,:] = r\n",
    "\n",
    "        print('A: ')\n",
    "        print(self._input_matrix)\n",
    "\n",
    "        print('one: ')\n",
    "        self._one_diag_matrix = np.eye(self._size_input_matrix, dtype=int)\n",
    "        print(self._one_diag_matrix)\n",
    "    \n",
    "    def G_J_solvetion(self, new_mat_size:int = __MIN_MATRIX_SIZE):\n",
    "        \n",
    "        self._GenerateRandomMatrix(new_mat_size)\n",
    "\n",
    "        \n",
    "\n",
    "    def TestInversionMatrix():\n",
    "        pass\n",
    "    "
   ]
  },
  {
   "cell_type": "code",
   "execution_count": 100,
   "id": "2d683dcb",
   "metadata": {},
   "outputs": [
    {
     "name": "stdout",
     "output_type": "stream",
     "text": [
      "A: \n",
      "[[78 65 63 65  5]\n",
      " [61  7 23 72 77]\n",
      " [41  0 42 82 10]\n",
      " [36 24 37 26 96]\n",
      " [93 33  6 55 92]]\n",
      "one: \n",
      "[[1 0 0 0 0]\n",
      " [0 1 0 0 0]\n",
      " [0 0 1 0 0]\n",
      " [0 0 0 1 0]\n",
      " [0 0 0 0 1]]\n"
     ]
    }
   ],
   "source": [
    "\n",
    "solvation = Gauss_Jordan()\n",
    "solvation.GenerateRandomMatrix(5)\n",
    "\n",
    "#size_input_matrix = 5\n",
    "#empty_array = np.zeros([size_input_matrix, size_input_matrix], dtype=int)\n"
   ]
  }
 ],
 "metadata": {
  "kernelspec": {
   "display_name": "Python 3 (ipykernel)",
   "language": "python",
   "name": "python3"
  },
  "language_info": {
   "codemirror_mode": {
    "name": "ipython",
    "version": 3
   },
   "file_extension": ".py",
   "mimetype": "text/x-python",
   "name": "python",
   "nbconvert_exporter": "python",
   "pygments_lexer": "ipython3",
   "version": "3.11.7"
  }
 },
 "nbformat": 4,
 "nbformat_minor": 5
}
