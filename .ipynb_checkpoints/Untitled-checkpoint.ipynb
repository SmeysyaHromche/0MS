{
 "cells": [
  {
   "cell_type": "code",
   "execution_count": 1,
   "id": "4a5afe3e-e861-4b3a-919b-e9f373014c7e",
   "metadata": {},
   "outputs": [
    {
     "name": "stdout",
     "output_type": "stream",
     "text": [
      "hello, world\n"
     ]
    }
   ],
   "source": [
    "import numpy as np"
   ]
  },
  {
   "cell_type": "code",
   "execution_count": null,
   "id": "f0bfcfd7-9ee9-476e-99a7-1be4917d2cbf",
   "metadata": {},
   "outputs": [],
   "source": [
    " #Gauss–Jordan elimination\n",
    "class Gauss_Jordan():\n",
    "    def __init__():\n",
    "        n = np.array()\n",
    "    "
   ]
  }
 ],
 "metadata": {
  "kernelspec": {
   "display_name": "Python 3 (ipykernel)",
   "language": "python",
   "name": "python3"
  },
  "language_info": {
   "codemirror_mode": {
    "name": "ipython",
    "version": 3
   },
   "file_extension": ".py",
   "mimetype": "text/x-python",
   "name": "python",
   "nbconvert_exporter": "python",
   "pygments_lexer": "ipython3",
   "version": "3.11.7"
  }
 },
 "nbformat": 4,
 "nbformat_minor": 5
}
